{
 "cells": [
  {
   "cell_type": "markdown",
   "id": "d905c719-0b56-424e-b627-d8d16d852764",
   "metadata": {},
   "source": [
    "# Make monthly means of CryosatSMOS SIT"
   ]
  },
  {
   "cell_type": "markdown",
   "id": "1bf9dc42-0c60-4f13-ad15-8d40bbe09b88",
   "metadata": {
    "jp-MarkdownHeadingCollapsed": true,
    "tags": []
   },
   "source": [
    "#### This code loads weekly CS2-SMOS SIT and converts them to monthly means"
   ]
  },
  {
   "cell_type": "markdown",
   "id": "1b3f9a06-1582-40be-8f22-0b87c91b91b0",
   "metadata": {},
   "source": [
    "#### Creation date: 20230501\n",
    "#### Contact: valentin.ludwig@awi.de\n",
    "#### Current status: need to download January data\n",
    "#### Last used: 20230613"
   ]
  },
  {
   "cell_type": "markdown",
   "id": "9c6d2e9c-a529-4923-aae8-dec7e2d56a9d",
   "metadata": {},
   "source": [
    "### Module import"
   ]
  },
  {
   "cell_type": "code",
   "execution_count": 10,
   "id": "618f8c9a-ef2a-4605-981d-fd5ef3c7d55f",
   "metadata": {},
   "outputs": [],
   "source": [
    "import numpy as np\n",
    "import xarray as xr\n",
    "import os\n",
    "import datetime\n"
   ]
  },
  {
   "cell_type": "markdown",
   "id": "8f403137-d456-43a8-b353-813497f677a7",
   "metadata": {},
   "source": [
    "### Function declaration"
   ]
  },
  {
   "cell_type": "code",
   "execution_count": 11,
   "id": "e1163b07-04c2-4daf-83fb-defbe5922b92",
   "metadata": {},
   "outputs": [],
   "source": [
    "def load_sit(datadir,fn):\n",
    "    f_sit = xr.open_dataset(os.path.join(datadir,fn))\n",
    "    sit = np.array(f_sit[\"analysis_sea_ice_thickness\"][0,:,:])\n",
    "    return sit"
   ]
  },
  {
   "cell_type": "code",
   "execution_count": 12,
   "id": "c8a633ff-a808-463d-8ef7-c74c51632c84",
   "metadata": {},
   "outputs": [],
   "source": [
    "def load_lonlat(datadir,fn):\n",
    "    f_lonlat = xr.open_dataset(os.path.join(datadir,fn))\n",
    "    lon = np.array(f_lonlat[\"lon\"][:,:])\n",
    "    lat = np.array(f_lonlat[\"lat\"][:,:])\n",
    "\n",
    "    return lon,lat"
   ]
  },
  {
   "cell_type": "markdown",
   "id": "f3fe8792-59fa-4285-8fa6-67607b14daf8",
   "metadata": {},
   "source": [
    "### Load and prepare data"
   ]
  },
  {
   "cell_type": "markdown",
   "id": "6a302483-cec7-478a-a4c8-bba2c9f03c43",
   "metadata": {},
   "source": [
    "##### CS-SMOS SIT and geolocation"
   ]
  },
  {
   "cell_type": "code",
   "execution_count": 13,
   "id": "803b21dc-fd26-4484-b24d-096d0af7a432",
   "metadata": {},
   "outputs": [],
   "source": [
    "sit_daily = np.empty((432,432,25)) # 25: comes because CS2-SMOS is a daily dataset which comprises the following week's worth of data. Thus, the 25th day is the last one which contains only January days"
   ]
  },
  {
   "cell_type": "code",
   "execution_count": 14,
   "id": "384220b8-e321-4208-b3f6-c8b7429945ae",
   "metadata": {},
   "outputs": [],
   "source": [
    "basedir = os.path.join(os.getenv(\"HOME\"),\"05_SINXS\") # SINXS directory\n",
    "datadir = os.path.join(basedir,\"02_DATA/01_INPUT/02_CS2-SMOS\") # downloaded CS2-SMOS data are here\n",
    "savedir = os.path.join(basedir,\"02_DATA/02_OUTPUT/02_CS2-SMOS/02_NPY\") # monthly output will be saved here"
   ]
  },
  {
   "cell_type": "code",
   "execution_count": 15,
   "id": "2bd4fb5c-328c-4df4-b207-74ed1ce09997",
   "metadata": {},
   "outputs": [],
   "source": [
    "\n",
    "start = datetime.datetime.strptime(\"20230101\", \"%Y%m%d\") # first day\n",
    "end = datetime.datetime.strptime(\"20230126\", \"%Y%m%d\") # day AFTER last days\n",
    "startdates = [start + datetime.timedelta(days=x) for x in range(0, (end-start).days)]\n",
    "enddates = [start + datetime.timedelta(days=x+6) for x in range(0, (end-start).days)]\n"
   ]
  },
  {
   "cell_type": "code",
   "execution_count": 18,
   "id": "2d792daa-d602-4ed7-8299-c1e180f7d41c",
   "metadata": {},
   "outputs": [],
   "source": [
    "for i,(startdate,enddate) in enumerate(zip(startdates,enddates)): # loop over dates\n",
    "    fn = f\"W_XX-ESA,SMOS_CS2,NH_25KM_EASE2_{startdate.strftime('%Y%m%d')}_{enddate.strftime('%Y%m%d')}_r_v205_01_l4sit.nc\" # get file name\n",
    "    sit_daily[:,:,i] = load_sit(datadir,fn) # load SIT data\n",
    "    if i==0:\n",
    "        lon,lat = load_lonlat(datadir,fn) # load coordinates at first iteration"
   ]
  },
  {
   "cell_type": "code",
   "execution_count": 19,
   "id": "f10d2285-98d3-41a2-8259-6d11af9d6eed",
   "metadata": {},
   "outputs": [
    {
     "name": "stderr",
     "output_type": "stream",
     "text": [
      "/var/folders/d6/cf68qnyn42708tqdllr3pbmjmsjrs2/T/ipykernel_14623/1492934959.py:1: RuntimeWarning: Mean of empty slice\n",
      "  sit_monthly = np.nanmean(sit_daily,axis = 2) # get monthly mean\n"
     ]
    }
   ],
   "source": [
    "sit_monthly = np.nanmean(sit_daily,axis = 2) # get monthly mean\n",
    "np.savez_compressed(os.path.join(savedir,\"sit_cs2-smos_202301.npz\"),sit_monthly) # save monthly mean\n",
    "np.savez_compressed(os.path.join(savedir,\"lon_cs2-smos.npz\"),lon) # save longitudes\n",
    "np.savez_compressed(os.path.join(savedir,\"lat_cs2-smos.npz\"),lat)\n"
   ]
  }
 ],
 "metadata": {
  "kernelspec": {
   "display_name": "Python 3 (ipykernel)",
   "language": "python",
   "name": "python3"
  },
  "language_info": {
   "codemirror_mode": {
    "name": "ipython",
    "version": 3
   },
   "file_extension": ".py",
   "mimetype": "text/x-python",
   "name": "python",
   "nbconvert_exporter": "python",
   "pygments_lexer": "ipython3",
   "version": "3.11.3"
  }
 },
 "nbformat": 4,
 "nbformat_minor": 5
}
