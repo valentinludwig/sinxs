{
 "cells": [
  {
   "cell_type": "markdown",
   "id": "d905c719-0b56-424e-b627-d8d16d852764",
   "metadata": {},
   "source": [
    "# Make monthly means of PIOMAS SIT"
   ]
  },
  {
   "cell_type": "markdown",
   "id": "e5b29b2f-f626-4423-9a42-b3b86b63c2a8",
   "metadata": {
    "jp-MarkdownHeadingCollapsed": true,
    "tags": []
   },
   "source": [
    "#### This code loads daily PIOMAS SIT and converts them to monthly means"
   ]
  },
  {
   "cell_type": "markdown",
   "id": "677e0b82-4e0e-4f6e-9c31-d15aa131f8db",
   "metadata": {},
   "source": [
    "#### Creation date: 20230501\n",
    "#### Contact: valentin.ludwig@awi.de\n",
    "#### Current status: netCDF conversion in download_piomas.{ipynb,py} fails\n",
    "#### Last used: 20230613"
   ]
  },
  {
   "cell_type": "markdown",
   "id": "9c6d2e9c-a529-4923-aae8-dec7e2d56a9d",
   "metadata": {},
   "source": [
    "### Module import"
   ]
  },
  {
   "cell_type": "code",
   "execution_count": 1,
   "id": "618f8c9a-ef2a-4605-981d-fd5ef3c7d55f",
   "metadata": {},
   "outputs": [],
   "source": [
    "import numpy as np\n",
    "import xarray as xr\n",
    "import os"
   ]
  },
  {
   "cell_type": "markdown",
   "id": "f3fe8792-59fa-4285-8fa6-67607b14daf8",
   "metadata": {},
   "source": [
    "### Load and prepare data"
   ]
  },
  {
   "cell_type": "code",
   "execution_count": 2,
   "id": "b9b193b9-12bf-403e-8b87-8c9dba838b41",
   "metadata": {},
   "outputs": [],
   "source": [
    "basedir = os.path.join(os.getenv(\"HOME\"),\"05_SINXS\")# SINXS directory\n",
    "indir = os.path.join(basedir,\"02_DATA/01_INPUT/01_PIOMAS\") # daily data are located here\n",
    "outdir = os.path.join(basedir,\"02_DATA/02_OUTPUT/01_PIOMAS/02_NPY\") # monthly output will be stored here\n"
   ]
  },
  {
   "cell_type": "code",
   "execution_count": 4,
   "id": "d9ea363c-080f-4648-9b2f-1f676c8171bf",
   "metadata": {},
   "outputs": [
    {
     "ename": "ValueError",
     "evalue": "did not find a match in any of xarray's currently installed IO backends ['netcdf4', 'scipy']. Consider explicitly selecting one of the installed engines via the ``engine`` parameter, or installing additional IO dependencies, see:\nhttps://docs.xarray.dev/en/stable/getting-started-guide/installing.html\nhttps://docs.xarray.dev/en/stable/user-guide/io.html",
     "output_type": "error",
     "traceback": [
      "\u001b[0;31m---------------------------------------------------------------------------\u001b[0m",
      "\u001b[0;31mValueError\u001b[0m                                Traceback (most recent call last)",
      "Cell \u001b[0;32mIn[4], line 1\u001b[0m\n\u001b[0;32m----> 1\u001b[0m f_sit \u001b[38;5;241m=\u001b[39m \u001b[43mxr\u001b[49m\u001b[38;5;241;43m.\u001b[39;49m\u001b[43mopen_dataset\u001b[49m\u001b[43m(\u001b[49m\u001b[43mos\u001b[49m\u001b[38;5;241;43m.\u001b[39;49m\u001b[43mpath\u001b[49m\u001b[38;5;241;43m.\u001b[39;49m\u001b[43mjoin\u001b[49m\u001b[43m(\u001b[49m\u001b[43mdatadir\u001b[49m\u001b[43m,\u001b[49m\u001b[38;5;124;43m\"\u001b[39;49m\u001b[38;5;124;43mhiday.H2023\u001b[39;49m\u001b[38;5;124;43m\"\u001b[39;49m\u001b[43m)\u001b[49m\u001b[43m)\u001b[49m \u001b[38;5;66;03m# open netCDF file\u001b[39;00m\n",
      "File \u001b[0;32m~/opt/anaconda3/envs/sinxs/lib/python3.11/site-packages/xarray/backends/api.py:509\u001b[0m, in \u001b[0;36mopen_dataset\u001b[0;34m(filename_or_obj, engine, chunks, cache, decode_cf, mask_and_scale, decode_times, decode_timedelta, use_cftime, concat_characters, decode_coords, drop_variables, inline_array, backend_kwargs, **kwargs)\u001b[0m\n\u001b[1;32m    506\u001b[0m     kwargs\u001b[38;5;241m.\u001b[39mupdate(backend_kwargs)\n\u001b[1;32m    508\u001b[0m \u001b[38;5;28;01mif\u001b[39;00m engine \u001b[38;5;129;01mis\u001b[39;00m \u001b[38;5;28;01mNone\u001b[39;00m:\n\u001b[0;32m--> 509\u001b[0m     engine \u001b[38;5;241m=\u001b[39m \u001b[43mplugins\u001b[49m\u001b[38;5;241;43m.\u001b[39;49m\u001b[43mguess_engine\u001b[49m\u001b[43m(\u001b[49m\u001b[43mfilename_or_obj\u001b[49m\u001b[43m)\u001b[49m\n\u001b[1;32m    511\u001b[0m backend \u001b[38;5;241m=\u001b[39m plugins\u001b[38;5;241m.\u001b[39mget_backend(engine)\n\u001b[1;32m    513\u001b[0m decoders \u001b[38;5;241m=\u001b[39m _resolve_decoders_kwargs(\n\u001b[1;32m    514\u001b[0m     decode_cf,\n\u001b[1;32m    515\u001b[0m     open_backend_dataset_parameters\u001b[38;5;241m=\u001b[39mbackend\u001b[38;5;241m.\u001b[39mopen_dataset_parameters,\n\u001b[0;32m   (...)\u001b[0m\n\u001b[1;32m    521\u001b[0m     decode_coords\u001b[38;5;241m=\u001b[39mdecode_coords,\n\u001b[1;32m    522\u001b[0m )\n",
      "File \u001b[0;32m~/opt/anaconda3/envs/sinxs/lib/python3.11/site-packages/xarray/backends/plugins.py:197\u001b[0m, in \u001b[0;36mguess_engine\u001b[0;34m(store_spec)\u001b[0m\n\u001b[1;32m    189\u001b[0m \u001b[38;5;28;01melse\u001b[39;00m:\n\u001b[1;32m    190\u001b[0m     error_msg \u001b[38;5;241m=\u001b[39m (\n\u001b[1;32m    191\u001b[0m         \u001b[38;5;124m\"\u001b[39m\u001b[38;5;124mfound the following matches with the input file in xarray\u001b[39m\u001b[38;5;124m'\u001b[39m\u001b[38;5;124ms IO \u001b[39m\u001b[38;5;124m\"\u001b[39m\n\u001b[1;32m    192\u001b[0m         \u001b[38;5;124mf\u001b[39m\u001b[38;5;124m\"\u001b[39m\u001b[38;5;124mbackends: \u001b[39m\u001b[38;5;132;01m{\u001b[39;00mcompatible_engines\u001b[38;5;132;01m}\u001b[39;00m\u001b[38;5;124m. But their dependencies may not be installed, see:\u001b[39m\u001b[38;5;130;01m\\n\u001b[39;00m\u001b[38;5;124m\"\u001b[39m\n\u001b[1;32m    193\u001b[0m         \u001b[38;5;124m\"\u001b[39m\u001b[38;5;124mhttps://docs.xarray.dev/en/stable/user-guide/io.html \u001b[39m\u001b[38;5;130;01m\\n\u001b[39;00m\u001b[38;5;124m\"\u001b[39m\n\u001b[1;32m    194\u001b[0m         \u001b[38;5;124m\"\u001b[39m\u001b[38;5;124mhttps://docs.xarray.dev/en/stable/getting-started-guide/installing.html\u001b[39m\u001b[38;5;124m\"\u001b[39m\n\u001b[1;32m    195\u001b[0m     )\n\u001b[0;32m--> 197\u001b[0m \u001b[38;5;28;01mraise\u001b[39;00m \u001b[38;5;167;01mValueError\u001b[39;00m(error_msg)\n",
      "\u001b[0;31mValueError\u001b[0m: did not find a match in any of xarray's currently installed IO backends ['netcdf4', 'scipy']. Consider explicitly selecting one of the installed engines via the ``engine`` parameter, or installing additional IO dependencies, see:\nhttps://docs.xarray.dev/en/stable/getting-started-guide/installing.html\nhttps://docs.xarray.dev/en/stable/user-guide/io.html"
     ]
    }
   ],
   "source": [
    "f_sit = xr.open_dataset(os.path.join(datadir,\"hiday.H2023\")) # open netCDF file\n"
   ]
  },
  {
   "cell_type": "code",
   "execution_count": 5,
   "id": "0a99ea00-18ef-4221-b714-9e13a8ed55c2",
   "metadata": {},
   "outputs": [],
   "source": [
    "hiday_1d = np.array(f_sit[\"hiday\"][0,:,:]) # get hiday variable"
   ]
  },
  {
   "cell_type": "code",
   "execution_count": 6,
   "id": "ddcf3afe-c16f-4b76-97dd-7fc4e6586844",
   "metadata": {},
   "outputs": [],
   "source": [
    "hiday = np.reshape(hiday,(120,120,360)) # reshape hiday (dims: time, lon, lat)"
   ]
  },
  {
   "cell_type": "code",
   "execution_count": 30,
   "id": "f10d2285-98d3-41a2-8259-6d11af9d6eed",
   "metadata": {},
   "outputs": [],
   "source": [
    "sit_monthly = np.nanmean(hiday[0:31,:,:],axis = 0) # get monthly mean in January\n",
    "sit_monthly[sit_monthly<1e-3] = np.nan # set 0 values to NaN\n",
    "np.savez_compressed(os.path.join(savedir,\"sit_piomas_202301.npz\"),sit_monthly) # save as npz array"
   ]
  },
  {
   "cell_type": "code",
   "execution_count": 31,
   "id": "b8448b7d-c7dc-45e2-8afd-1645cfc563be",
   "metadata": {},
   "outputs": [],
   "source": [
    "lon_1d = np.array(f_sit[\"x\"]) # get longitudes\n",
    "lat_1d = np.array(f_sit[\"y\"]) # get latitudes\n",
    "lon = np.reshape(lon_1d,(120,360)) # get 2d lon\n",
    "lat = np.reshape(lat_1d,(120,360)) # get 2d lat\n",
    "np.savez_compressed(os.path.join(savedir,\"lon_piomas.npz\"),lon) # save longitudes\n",
    "np.savez_compressed(os.path.join(savedir,\"lat_piomas.npz\"),lat) # save latitudes"
   ]
  },
  {
   "cell_type": "code",
   "execution_count": null,
   "id": "16dc1303-2f36-4235-9a8f-a3ce8d520dfe",
   "metadata": {},
   "outputs": [],
   "source": []
  }
 ],
 "metadata": {
  "kernelspec": {
   "display_name": "Python 3 (ipykernel)",
   "language": "python",
   "name": "python3"
  },
  "language_info": {
   "codemirror_mode": {
    "name": "ipython",
    "version": 3
   },
   "file_extension": ".py",
   "mimetype": "text/x-python",
   "name": "python",
   "nbconvert_exporter": "python",
   "pygments_lexer": "ipython3",
   "version": "3.11.3"
  }
 },
 "nbformat": 4,
 "nbformat_minor": 5
}
