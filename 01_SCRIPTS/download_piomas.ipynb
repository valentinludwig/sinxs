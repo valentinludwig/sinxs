{
 "cells": [
  {
   "cell_type": "markdown",
   "id": "506caf8a-10aa-488c-adca-8258f2c497d9",
   "metadata": {},
   "source": [
    "# Download PIOMAS data"
   ]
  },
  {
   "cell_type": "markdown",
   "id": "bf780dcb-4ae5-4daa-8f99-e9d04ab220ba",
   "metadata": {},
   "source": [
    "#### This code downloads PIOMAS sea-ice thickness data. It is based on the PyPIOMAS Python module provided at https://github.com/Weiming-Hu/PyPIOMAS"
   ]
  },
  {
   "cell_type": "markdown",
   "id": "51d6cb49-3b34-44b1-91ec-ac6767dbfcd6",
   "metadata": {},
   "source": [
    "#### Creation date: 20230501\n",
    "#### Contact: valentin.ludwig@awi.de\n",
    "#### Current status: netCDF conversion fails\n",
    "#### Last used: 20230613"
   ]
  },
  {
   "cell_type": "code",
   "execution_count": 14,
   "id": "19befb20-40fb-4cda-b016-44a76d042d58",
   "metadata": {},
   "outputs": [],
   "source": [
    "#### Last used: 20230613from PyPIOMAS.PyPIOMAS import PyPIOMAS # install from here: https://github.com/Weiming-Hu/PyPIOMAS\n",
    "import os"
   ]
  },
  {
   "cell_type": "code",
   "execution_count": 2,
   "id": "45aa3d15-246f-41f7-bd12-230ec37b14f7",
   "metadata": {},
   "outputs": [],
   "source": [
    "homedir = os.getenv(\"HOME\") # home directory\n",
    "outdir = os.path.join(homedir,\"05_SINXS/02_DATA/01_INPUT/01_PIOMAS\") # files shall be stored here"
   ]
  },
  {
   "cell_type": "code",
   "execution_count": 3,
   "id": "af54cf6b-317a-4fd1-a5cb-35eb7ea171aa",
   "metadata": {},
   "outputs": [
    {
     "name": "stdout",
     "output_type": "stream",
     "text": [
      "Available variables\n",
      "('heff', 'hiday', 'aiday', 'area', 'advect', 'alb', 'gice', 'giceday', 'iceprod', 'icevel', 'oflux', 'osali', 'osali1_10', 'otemp', 'otemp1_10', 'snow', 'snowday', 'ssh', 'tice0')\n",
      "hiday is sea-ice thickness\n"
     ]
    }
   ],
   "source": [
    "print(\"Available variables\")\n",
    "print(PyPIOMAS.supported_variables)\n",
    "print(\"hiday is sea-ice thickness\")"
   ]
  },
  {
   "cell_type": "code",
   "execution_count": 16,
   "id": "afa7bafc-443c-4bc2-8dbf-48c0a5fcf4db",
   "metadata": {},
   "outputs": [],
   "source": [
    "variables = [\"hiday\"] # these variables will be downloaded\n",
    "years = [2023] # these years will be downloaded\n",
    "downloader = PyPIOMAS(outdir, variables, years) # instance to download data (not yet in netCDF!)"
   ]
  },
  {
   "cell_type": "code",
   "execution_count": 17,
   "id": "fb5e7cdd-075f-4f8d-87af-9c3f0f49f4cc",
   "metadata": {},
   "outputs": [
    {
     "name": "stdout",
     "output_type": "stream",
     "text": [
      "*************** PIOMAS Data Downloader ***************\n",
      "Source: http://psc.apl.uw.edu/research/projects/arctic-sea-ice-volume-anomaly/data/model_grid\n",
      "Save to directory: /Users/vludwig/05_SINXS/02_DATA/01_INPUT/01_PIOMAS\n",
      "Variables: hiday\n",
      "Years: 2023\n",
      "************************* End ************************\n"
     ]
    }
   ],
   "source": [
    "print(downloader) # print info about downloader"
   ]
  },
  {
   "cell_type": "code",
   "execution_count": 18,
   "id": "063f01aa-3f0c-4fc9-a21b-a54a6544d525",
   "metadata": {},
   "outputs": [
    {
     "name": "stdout",
     "output_type": "stream",
     "text": [
      "/Users/vludwig/05_SINXS/02_DATA/01_INPUT/01_PIOMAS/hiday.H2023 already exists. Skipped.\n",
      "File transfer completes! Output has been saved to /Users/vludwig/05_SINXS/02_DATA/01_INPUT/01_PIOMAS\n",
      "Unzipped all .gz files.\n"
     ]
    }
   ],
   "source": [
    "downloader.download() # download data\n",
    "downloader.unzip() # unzip downloaded data"
   ]
  },
  {
   "cell_type": "code",
   "execution_count": 19,
   "id": "05aa7e0c-3b7e-4678-abdb-f0358193a328",
   "metadata": {},
   "outputs": [
    {
     "name": "stdout",
     "output_type": "stream",
     "text": [
      "Adding Daily sea ice thickness (hiday) from year 2023 ...\n",
      "Stacking multiple years ...\n",
      "Stacking [hiday_2023] to be hiday ...\n",
      "An NetCDF file has been generated at hiday.H2023!\n"
     ]
    }
   ],
   "source": [
    "downloader.to_netcdf('hiday.H2023') # convert downloaded data to netCDF. Adapt filename if needed!"
   ]
  },
  {
   "cell_type": "code",
   "execution_count": 9,
   "id": "23edf9ee-721b-428d-ab7d-ad37ebd2bc22",
   "metadata": {},
   "outputs": [],
   "source": [
    "from PyPIOMAS.PyPIOMAS import PyPIOMAS\n",
    "\n",
    "variables = ['area']\n",
    "years = [2016, 2017, 2018]\n",
    "out_dir = '~/Desktop/PIOMAS'\n",
    "\n",
    "downloader = PyPIOMAS(out_dir, variables, years)"
   ]
  },
  {
   "cell_type": "code",
   "execution_count": 10,
   "id": "0cf70193-2ae7-4f82-b6c7-f2c236101802",
   "metadata": {},
   "outputs": [
    {
     "name": "stdout",
     "output_type": "stream",
     "text": [
      "/Users/vludwig/Desktop/PIOMAS/area.H2016.gz already exists. Skipped.\n",
      "/Users/vludwig/Desktop/PIOMAS/area.H2017.gz already exists. Skipped.\n",
      "/Users/vludwig/Desktop/PIOMAS/area.H2018.gz already exists. Skipped.\n",
      "File transfer completes! Output has been saved to /Users/vludwig/Desktop/PIOMAS\n",
      "/Users/vludwig/Desktop/PIOMAS/area.H2016 already exists. Skipped!\n",
      "/Users/vludwig/Desktop/PIOMAS/area.H2017 already exists. Skipped!\n",
      "/Users/vludwig/Desktop/PIOMAS/area.H2018 already exists. Skipped!\n",
      "Unzipped all .gz files.\n"
     ]
    }
   ],
   "source": [
    "downloader.download()\n",
    "downloader.unzip()"
   ]
  },
  {
   "cell_type": "code",
   "execution_count": 13,
   "id": "7280e16d-9d20-435d-84c2-eb6c44a8f84e",
   "metadata": {},
   "outputs": [
    {
     "name": "stdout",
     "output_type": "stream",
     "text": [
      "Adding Monthly sea ice concentration (area) from year 2016 ...\n",
      "Adding Monthly sea ice concentration (area) from year 2017 ...\n",
      "Stacking multiple years ...\n",
      "Stacking [area_2016, area_2017] to be area ...\n",
      "An NetCDF file has been generated at /Users/vludwig/Desktop/PIOMAS/area.H2018!\n"
     ]
    }
   ],
   "source": [
    "downloader.to_netcdf('~/Desktop/PIOMAS/area.H2018')"
   ]
  },
  {
   "cell_type": "code",
   "execution_count": null,
   "id": "a87a007a-3fba-4eb9-81e5-9d5b0e21037c",
   "metadata": {},
   "outputs": [],
   "source": []
  }
 ],
 "metadata": {
  "kernelspec": {
   "display_name": "Python 3 (ipykernel)",
   "language": "python",
   "name": "python3"
  },
  "language_info": {
   "codemirror_mode": {
    "name": "ipython",
    "version": 3
   },
   "file_extension": ".py",
   "mimetype": "text/x-python",
   "name": "python",
   "nbconvert_exporter": "python",
   "pygments_lexer": "ipython3",
   "version": "3.11.3"
  }
 },
 "nbformat": 4,
 "nbformat_minor": 5
}
